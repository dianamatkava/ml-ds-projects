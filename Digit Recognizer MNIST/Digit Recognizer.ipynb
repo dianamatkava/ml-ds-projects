{
 "cells": [
  {
   "cell_type": "code",
   "execution_count": 69,
   "id": "ca97f654-15ff-48c5-8595-20eedf031e94",
   "metadata": {
    "ExecuteTime": {
     "end_time": "2024-05-26T13:24:26.566571Z",
     "start_time": "2024-05-26T13:24:24.275926Z"
    }
   },
   "outputs": [],
   "source": [
    "import pandas as pd\n",
    "\n",
    "test = pd.read_csv(\"data/test.csv\")\n",
    "train = pd.read_csv(\"data/train.csv\")"
   ]
  },
  {
   "cell_type": "markdown",
   "id": "03631751-ae44-4878-9f39-828ecb1d016f",
   "metadata": {},
   "source": [
    "# Generate Image from data"
   ]
  },
  {
   "cell_type": "code",
   "execution_count": 70,
   "id": "aabcde7a-92a9-4bcf-83bc-3dce6a230cf1",
   "metadata": {
    "scrolled": true,
    "ExecuteTime": {
     "end_time": "2024-05-26T13:24:26.575754Z",
     "start_time": "2024-05-26T13:24:26.570797Z"
    }
   },
   "outputs": [],
   "source": [
    "from PIL import Image\n",
    "import numpy as np\n",
    "import math\n",
    "\n",
    "width = int(math.sqrt(len(test.columns)))\n",
    "height = width\n",
    "\n",
    "def generate_random_number_image(index: int, dataset=test, flash: bool=False) -> Image:\n",
    "    data = dataset.iloc[index]\n",
    "    arr = np.array(data, dtype=np.uint8).reshape(width, height)\n",
    "    \n",
    "    image = Image.fromarray(arr, 'L')\n",
    "    image = image.resize((225, 225), Image.Resampling.LANCZOS)\n",
    "    return image\n"
   ]
  },
  {
   "cell_type": "code",
   "outputs": [],
   "source": [
    "from sklearn.metrics import mean_absolute_error\n",
    "from sklearn.model_selection import train_test_split\n",
    "\n",
    "train_Y = train.label\n",
    "train_X = train.drop(\"label\", axis=1)\n",
    "\n",
    "train_X, test_X, train_Y, test_Y = train_test_split(train_X, train_Y, test_size=0.2, random_state=0)"
   ],
   "metadata": {
    "collapsed": false,
    "ExecuteTime": {
     "end_time": "2024-05-26T13:24:26.776535Z",
     "start_time": "2024-05-26T13:24:26.574861Z"
    }
   },
   "id": "d424869f4b8f31da",
   "execution_count": 71
  },
  {
   "cell_type": "markdown",
   "source": [
    "### Sklearn DecisionTreeRegressor"
   ],
   "metadata": {
    "collapsed": false
   },
   "id": "78d235b7b362e0f1"
  },
  {
   "cell_type": "code",
   "execution_count": 72,
   "id": "163006c3-006c-4174-9fcd-75c4da75dc8f",
   "metadata": {
    "ExecuteTime": {
     "end_time": "2024-05-26T13:24:36.259745Z",
     "start_time": "2024-05-26T13:24:26.781235Z"
    }
   },
   "outputs": [
    {
     "data": {
      "text/plain": "0.5698809523809524"
     },
     "execution_count": 72,
     "metadata": {},
     "output_type": "execute_result"
    }
   ],
   "source": [
    "from sklearn.tree import DecisionTreeRegressor\n",
    "\n",
    "model_tree = DecisionTreeRegressor(random_state=0)\n",
    "model_tree.fit(train_X, train_Y)\n",
    "\n",
    "prediction = model_tree.predict(test_X)\n",
    "mean_absolute_error(prediction, test_Y)\n"
   ]
  },
  {
   "cell_type": "markdown",
   "source": [
    "### RandomForestRegressor"
   ],
   "metadata": {
    "collapsed": false
   },
   "id": "bea8fbf46227c162"
  },
  {
   "cell_type": "code",
   "execution_count": null,
   "id": "0f4dcd1d-8566-4ed6-9443-81d6ff4b29c3",
   "metadata": {
    "ExecuteTime": {
     "start_time": "2024-05-26T13:24:20.465944Z"
    }
   },
   "outputs": [],
   "source": [
    "# from sklearn.ensemble import RandomForestRegressor\n",
    "# \n",
    "# model_forest = RandomForestRegressor(random_state=0)\n",
    "# model_forest.fit(train_X, train_Y)\n",
    "# \n",
    "# prediction = model_forest.predict(test_X)\n",
    "# mean_absolute_error(prediction, test_Y)"
   ]
  },
  {
   "cell_type": "code",
   "execution_count": 115,
   "id": "cf2dc758-2662-4acc-ba8a-3c755babe941",
   "metadata": {
    "ExecuteTime": {
     "end_time": "2024-05-26T13:30:08.183826Z",
     "start_time": "2024-05-26T13:30:08.175122Z"
    }
   },
   "outputs": [
    {
     "data": {
      "text/plain": "<PIL.Image.Image image mode=L size=225x225>",
      "image/png": "[encoded data removed]",
      "image/jpeg": "[encoded data removed]"
     },
     "execution_count": 115,
     "metadata": {},
     "output_type": "execute_result"
    }
   ],
   "source": [
    "import random\n",
    "random_num = random.randint(0, 30_000-1)\n",
    "generate_random_number_image(index=random_num, flash=False)"
   ]
  },
  {
   "cell_type": "code",
   "outputs": [
    {
     "data": {
      "text/plain": "array([7.])"
     },
     "execution_count": 116,
     "metadata": {},
     "output_type": "execute_result"
    }
   ],
   "source": [
    "model_tree.predict(test.iloc[random_num:random_num+1])"
   ],
   "metadata": {
    "collapsed": false,
    "ExecuteTime": {
     "end_time": "2024-05-26T13:30:08.518103Z",
     "start_time": "2024-05-26T13:30:08.514533Z"
    }
   },
   "id": "71653fd653be1812",
   "execution_count": 116
  },
  {
   "cell_type": "code",
   "outputs": [],
   "source": [],
   "metadata": {
    "collapsed": false
   },
   "id": "9f97e66bd0c1d687"
  }
 ],
 "metadata": {
  "kernelspec": {
   "display_name": "Python 3 (ipykernel)",
   "language": "python",
   "name": "python3"
  },
  "language_info": {
   "codemirror_mode": {
    "name": "ipython",
    "version": 3
   },
   "file_extension": ".py",
   "mimetype": "text/x-python",
   "name": "python",
   "nbconvert_exporter": "python",
   "pygments_lexer": "ipython3",
   "version": "3.11.6"
  }
 },
 "nbformat": 4,
 "nbformat_minor": 5
}
