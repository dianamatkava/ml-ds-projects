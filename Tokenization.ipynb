{
 "cells": [
  {
   "cell_type": "code",
   "execution_count": 76,
   "id": "6a47cb9c-0850-4035-94f8-44c8fdaa94fb",
   "metadata": {},
   "outputs": [
    {
     "name": "stdout",
     "output_type": "stream",
     "text": [
      "507184\n",
      "94 -- ('X', 'und', 'X')\n",
      "48 -- ('sagte', 'X', 'und')\n",
      "26 -- ('auf', 'dem', 'boden')\n",
      "15 -- ('auf', 'dem', 'weg')\n",
      "15 -- ('in', 'die', 'luft')\n",
      "13 -- ('als', 'ob', 'er')\n",
      "13 -- ('sagte', 'er', 'und')\n",
      "13 -- ('am', 'nächsten', 'morgen')\n",
      "13 -- ('sagte', 'X.', 'er')\n",
      "13 -- ('in', 'der', 'luft')\n",
      "12 -- ('sagte', 'X.', 'X')\n",
      "12 -- ('X,', 'X', 'und')\n",
      "11 -- ('zum', 'ersten', 'mal')\n",
      "11 -- ('es', 'war', 'ein')\n",
      "11 -- ('ich', 'weiß', 'nicht,')\n"
     ]
    }
   ],
   "source": [
    "import nltk\n",
    "from collections import Counter\n",
    "\n",
    "file_path = \"./data/Harry_Potter_and_the_Philosophers_Stone.txt\"\n",
    "\n",
    "with open(file_path, 'r', encoding=\"utf8\") as file:\n",
    "    data = file.read().lower().strip()\n",
    "\n",
    "print(len(data))\n",
    "persons = ['harry', 'ron', 'hermine', 'george', 'hagrid', 'fred']\n",
    "articles = ['die', 'der', 'dem', 'das', 'den']\n",
    "for i in persons:\n",
    "    data = data.replace(i, 'X')\n",
    "# for i in articles:\n",
    "#     data = data.replace(f' {i} ', ' _a_ ')\n",
    "\n",
    "\n",
    "ngrams = Counter(nltk.ngrams(data.replace(\"»\", \"\").split(), 3))\n",
    "\n",
    "for ngram, freq in ngrams.most_common(15):\n",
    "    print(f\"{freq} -- {ngram}\")"
   ]
  },
  {
   "cell_type": "code",
   "execution_count": null,
   "id": "819ed6cd-1a96-439e-833e-e1e29e61a719",
   "metadata": {},
   "outputs": [],
   "source": []
  },
  {
   "cell_type": "code",
   "execution_count": null,
   "id": "36625a51-bf9c-48ed-83a4-5c80dace0270",
   "metadata": {},
   "outputs": [],
   "source": []
  },
  {
   "cell_type": "code",
   "execution_count": null,
   "id": "28df4979-9fb2-492f-9a1f-45fc28b5c024",
   "metadata": {},
   "outputs": [],
   "source": []
  }
 ],
 "metadata": {
  "kernelspec": {
   "display_name": "Python 3 (ipykernel)",
   "language": "python",
   "name": "python3"
  },
  "language_info": {
   "codemirror_mode": {
    "name": "ipython",
    "version": 3
   },
   "file_extension": ".py",
   "mimetype": "text/x-python",
   "name": "python",
   "nbconvert_exporter": "python",
   "pygments_lexer": "ipython3",
   "version": "3.11.6"
  }
 },
 "nbformat": 4,
 "nbformat_minor": 5
}
