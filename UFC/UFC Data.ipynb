{
 "cells": [
  {
   "cell_type": "code",
   "execution_count": 26,
   "id": "9b534efe-d0a0-4a43-89c9-148e72460328",
   "metadata": {},
   "outputs": [
    {
     "name": "stderr",
     "output_type": "stream",
     "text": [
      "WARNING:root:Promoting column `finish` to string from float64\n",
      "WARNING:root:Promoting column `finish_details` to string from float64\n",
      "WARNING:root:Promoting column `finish_round_time` to string from float64\n"
     ]
    },
    {
     "data": {
      "application/vnd.jupyter.widget-view+json": {
       "model_id": "d6e368dac4eb4591accca8a2cb3edb15",
       "version_major": 2,
       "version_minor": 0
      },
      "text/plain": [
       "PerspectiveWidget(columns=['index', 'R_fighter', 'B_fighter', 'R_odds', 'B_odds', 'Spread', 'Anomaly', 'R_ev',…"
      ]
     },
     "execution_count": 26,
     "metadata": {},
     "output_type": "execute_result"
    }
   ],
   "source": [
    "import pandas as pd\n",
    "import perspective\n",
    "from features import features\n",
    "\n",
    "df = pd.read_csv(\"./data/UFC Data.csv\")\n",
    "perspective.PerspectiveWidget(df)"
   ]
  },
  {
   "cell_type": "code",
   "execution_count": 34,
   "id": "03438648-026a-413d-a606-0cf247e06847",
   "metadata": {},
   "outputs": [
    {
     "data": {
      "text/plain": [
       "177.8"
      ]
     },
     "execution_count": 34,
     "metadata": {},
     "output_type": "execute_result"
    }
   ],
   "source": [
    "df.iloc[221].B_Height_cms"
   ]
  },
  {
   "cell_type": "code",
   "execution_count": 23,
   "id": "858a732a-7bec-47f2-9f49-6057a2ef25a5",
   "metadata": {},
   "outputs": [],
   "source": [
    "cat = df[features].select_dtypes(include='object')"
   ]
  },
  {
   "cell_type": "code",
   "execution_count": 24,
   "id": "44b92ee4-82f3-497f-a98e-f28b1602a473",
   "metadata": {},
   "outputs": [
    {
     "data": {
      "text/html": [
       "<div>\n",
       "<style scoped>\n",
       "    .dataframe tbody tr th:only-of-type {\n",
       "        vertical-align: middle;\n",
       "    }\n",
       "\n",
       "    .dataframe tbody tr th {\n",
       "        vertical-align: top;\n",
       "    }\n",
       "\n",
       "    .dataframe thead th {\n",
       "        text-align: right;\n",
       "    }\n",
       "</style>\n",
       "<table border=\"1\" class=\"dataframe\">\n",
       "  <thead>\n",
       "    <tr style=\"text-align: right;\">\n",
       "      <th></th>\n",
       "      <th>R_fighter</th>\n",
       "      <th>B_fighter</th>\n",
       "      <th>date</th>\n",
       "      <th>location</th>\n",
       "      <th>country</th>\n",
       "      <th>Winner</th>\n",
       "      <th>weight_class</th>\n",
       "      <th>gender</th>\n",
       "      <th>B_Stance</th>\n",
       "      <th>R_Stance</th>\n",
       "    </tr>\n",
       "  </thead>\n",
       "  <tbody>\n",
       "    <tr>\n",
       "      <th>0</th>\n",
       "      <td>Curtis Blaydes</td>\n",
       "      <td>Derrick Lewis</td>\n",
       "      <td>2/20/2021</td>\n",
       "      <td>Las Vegas, Nevada, USA</td>\n",
       "      <td>USA</td>\n",
       "      <td>Blue</td>\n",
       "      <td>Heavyweight</td>\n",
       "      <td>MALE</td>\n",
       "      <td>Orthodox</td>\n",
       "      <td>Orthodox</td>\n",
       "    </tr>\n",
       "    <tr>\n",
       "      <th>1</th>\n",
       "      <td>Ketlen Vieira</td>\n",
       "      <td>Yana Kunitskaya</td>\n",
       "      <td>2/20/2021</td>\n",
       "      <td>Las Vegas, Nevada, USA</td>\n",
       "      <td>USA</td>\n",
       "      <td>Blue</td>\n",
       "      <td>Women's Bantamweight</td>\n",
       "      <td>FEMALE</td>\n",
       "      <td>Orthodox</td>\n",
       "      <td>Orthodox</td>\n",
       "    </tr>\n",
       "    <tr>\n",
       "      <th>2</th>\n",
       "      <td>Charles Rosa</td>\n",
       "      <td>Darrick Minner</td>\n",
       "      <td>2/20/2021</td>\n",
       "      <td>Las Vegas, Nevada, USA</td>\n",
       "      <td>USA</td>\n",
       "      <td>Blue</td>\n",
       "      <td>Featherweight</td>\n",
       "      <td>MALE</td>\n",
       "      <td>Orthodox</td>\n",
       "      <td>Switch</td>\n",
       "    </tr>\n",
       "    <tr>\n",
       "      <th>3</th>\n",
       "      <td>Aleksei Oleinik</td>\n",
       "      <td>Chris Daukaus</td>\n",
       "      <td>2/20/2021</td>\n",
       "      <td>Las Vegas, Nevada, USA</td>\n",
       "      <td>USA</td>\n",
       "      <td>Blue</td>\n",
       "      <td>Heavyweight</td>\n",
       "      <td>MALE</td>\n",
       "      <td>Orthodox</td>\n",
       "      <td>Orthodox</td>\n",
       "    </tr>\n",
       "    <tr>\n",
       "      <th>4</th>\n",
       "      <td>Phil Hawes</td>\n",
       "      <td>Nassourdine Imavov</td>\n",
       "      <td>2/20/2021</td>\n",
       "      <td>Las Vegas, Nevada, USA</td>\n",
       "      <td>USA</td>\n",
       "      <td>Red</td>\n",
       "      <td>Middleweight</td>\n",
       "      <td>MALE</td>\n",
       "      <td>Orthodox</td>\n",
       "      <td>Orthodox</td>\n",
       "    </tr>\n",
       "    <tr>\n",
       "      <th>...</th>\n",
       "      <td>...</td>\n",
       "      <td>...</td>\n",
       "      <td>...</td>\n",
       "      <td>...</td>\n",
       "      <td>...</td>\n",
       "      <td>...</td>\n",
       "      <td>...</td>\n",
       "      <td>...</td>\n",
       "      <td>...</td>\n",
       "      <td>...</td>\n",
       "    </tr>\n",
       "    <tr>\n",
       "      <th>4583</th>\n",
       "      <td>Duane Ludwig</td>\n",
       "      <td>Darren Elkins</td>\n",
       "      <td>3/21/2010</td>\n",
       "      <td>Broomfield, Colorado, USA</td>\n",
       "      <td>USA</td>\n",
       "      <td>Blue</td>\n",
       "      <td>Lightweight</td>\n",
       "      <td>MALE</td>\n",
       "      <td>Orthodox</td>\n",
       "      <td>Orthodox</td>\n",
       "    </tr>\n",
       "    <tr>\n",
       "      <th>4584</th>\n",
       "      <td>John Howard</td>\n",
       "      <td>Daniel Roberts</td>\n",
       "      <td>3/21/2010</td>\n",
       "      <td>Broomfield, Colorado, USA</td>\n",
       "      <td>USA</td>\n",
       "      <td>Red</td>\n",
       "      <td>Welterweight</td>\n",
       "      <td>MALE</td>\n",
       "      <td>Southpaw</td>\n",
       "      <td>Orthodox</td>\n",
       "    </tr>\n",
       "    <tr>\n",
       "      <th>4585</th>\n",
       "      <td>Brendan Schaub</td>\n",
       "      <td>Chase Gormley</td>\n",
       "      <td>3/21/2010</td>\n",
       "      <td>Broomfield, Colorado, USA</td>\n",
       "      <td>USA</td>\n",
       "      <td>Red</td>\n",
       "      <td>Heavyweight</td>\n",
       "      <td>MALE</td>\n",
       "      <td>Orthodox</td>\n",
       "      <td>Orthodox</td>\n",
       "    </tr>\n",
       "    <tr>\n",
       "      <th>4586</th>\n",
       "      <td>Mike Pierce</td>\n",
       "      <td>Julio Paulino</td>\n",
       "      <td>3/21/2010</td>\n",
       "      <td>Broomfield, Colorado, USA</td>\n",
       "      <td>USA</td>\n",
       "      <td>Red</td>\n",
       "      <td>Welterweight</td>\n",
       "      <td>MALE</td>\n",
       "      <td>Orthodox</td>\n",
       "      <td>Orthodox</td>\n",
       "    </tr>\n",
       "    <tr>\n",
       "      <th>4587</th>\n",
       "      <td>Eric Schafer</td>\n",
       "      <td>Jason Brilz</td>\n",
       "      <td>3/21/2010</td>\n",
       "      <td>Broomfield, Colorado, USA</td>\n",
       "      <td>USA</td>\n",
       "      <td>Blue</td>\n",
       "      <td>Light Heavyweight</td>\n",
       "      <td>MALE</td>\n",
       "      <td>Orthodox</td>\n",
       "      <td>Orthodox</td>\n",
       "    </tr>\n",
       "  </tbody>\n",
       "</table>\n",
       "<p>4588 rows × 10 columns</p>\n",
       "</div>"
      ],
      "text/plain": [
       "            R_fighter           B_fighter       date  \\\n",
       "0      Curtis Blaydes       Derrick Lewis  2/20/2021   \n",
       "1       Ketlen Vieira     Yana Kunitskaya  2/20/2021   \n",
       "2        Charles Rosa      Darrick Minner  2/20/2021   \n",
       "3     Aleksei Oleinik       Chris Daukaus  2/20/2021   \n",
       "4          Phil Hawes  Nassourdine Imavov  2/20/2021   \n",
       "...               ...                 ...        ...   \n",
       "4583     Duane Ludwig       Darren Elkins  3/21/2010   \n",
       "4584      John Howard      Daniel Roberts  3/21/2010   \n",
       "4585   Brendan Schaub       Chase Gormley  3/21/2010   \n",
       "4586      Mike Pierce       Julio Paulino  3/21/2010   \n",
       "4587     Eric Schafer         Jason Brilz  3/21/2010   \n",
       "\n",
       "                       location country Winner          weight_class  gender  \\\n",
       "0        Las Vegas, Nevada, USA     USA   Blue           Heavyweight    MALE   \n",
       "1        Las Vegas, Nevada, USA     USA   Blue  Women's Bantamweight  FEMALE   \n",
       "2        Las Vegas, Nevada, USA     USA   Blue         Featherweight    MALE   \n",
       "3        Las Vegas, Nevada, USA     USA   Blue           Heavyweight    MALE   \n",
       "4        Las Vegas, Nevada, USA     USA    Red          Middleweight    MALE   \n",
       "...                         ...     ...    ...                   ...     ...   \n",
       "4583  Broomfield, Colorado, USA     USA   Blue           Lightweight    MALE   \n",
       "4584  Broomfield, Colorado, USA     USA    Red          Welterweight    MALE   \n",
       "4585  Broomfield, Colorado, USA     USA    Red           Heavyweight    MALE   \n",
       "4586  Broomfield, Colorado, USA     USA    Red          Welterweight    MALE   \n",
       "4587  Broomfield, Colorado, USA     USA   Blue     Light Heavyweight    MALE   \n",
       "\n",
       "      B_Stance  R_Stance  \n",
       "0     Orthodox  Orthodox  \n",
       "1     Orthodox  Orthodox  \n",
       "2     Orthodox    Switch  \n",
       "3     Orthodox  Orthodox  \n",
       "4     Orthodox  Orthodox  \n",
       "...        ...       ...  \n",
       "4583  Orthodox  Orthodox  \n",
       "4584  Southpaw  Orthodox  \n",
       "4585  Orthodox  Orthodox  \n",
       "4586  Orthodox  Orthodox  \n",
       "4587  Orthodox  Orthodox  \n",
       "\n",
       "[4588 rows x 10 columns]"
      ]
     },
     "execution_count": 24,
     "metadata": {},
     "output_type": "execute_result"
    }
   ],
   "source": [
    "cat"
   ]
  },
  {
   "cell_type": "code",
   "execution_count": 25,
   "id": "a44553a1-6e75-464e-8712-c88cd9fe2190",
   "metadata": {},
   "outputs": [
    {
     "data": {
      "text/plain": [
       "0        25.000000\n",
       "1        35.971223\n",
       "2        52.631579\n",
       "3       140.000000\n",
       "4              NaN\n",
       "           ...    \n",
       "4583     64.516129\n",
       "4584     47.619048\n",
       "4585     38.461538\n",
       "4586     23.809524\n",
       "4587    140.000000\n",
       "Name: R_ev, Length: 4588, dtype: float64"
      ]
     },
     "execution_count": 25,
     "metadata": {},
     "output_type": "execute_result"
    }
   ],
   "source": [
    "df.R_ev"
   ]
  },
  {
   "cell_type": "code",
   "execution_count": null,
   "id": "d41b6e7b-52f1-4299-97cd-61192745ad59",
   "metadata": {},
   "outputs": [],
   "source": []
  }
 ],
 "metadata": {
  "kernelspec": {
   "display_name": "Python 3 (ipykernel)",
   "language": "python",
   "name": "python3"
  },
  "language_info": {
   "codemirror_mode": {
    "name": "ipython",
    "version": 3
   },
   "file_extension": ".py",
   "mimetype": "text/x-python",
   "name": "python",
   "nbconvert_exporter": "python",
   "pygments_lexer": "ipython3",
   "version": "3.11.6"
  }
 },
 "nbformat": 4,
 "nbformat_minor": 5
}
