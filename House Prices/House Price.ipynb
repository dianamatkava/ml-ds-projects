{
 "cells": [
  {
   "cell_type": "code",
   "execution_count": 223,
   "id": "7f3c599d-d9f6-40a1-9b47-b0c5fe811622",
   "metadata": {},
   "outputs": [],
   "source": [
    "import pandas as pd\n",
    "from sklearn.metrics import mean_absolute_error\n",
    "\n",
    "remove_1=['YearRemodAdd', 'BsmtFullBath', 'BsmtHalfBath', 'EnclosedPorch', '3SsnPorch', 'ScreenPorch', 'PoolArea', 'MiscVal', 'YrSold']\n",
    "exclude = remove_1\n",
    "\n",
    "\n",
    "train = pd.read_csv(\"./data/train.csv\").drop(exclude, axis=1)\n",
    "\n",
    "test_x = pd.read_csv(\"./data/test.csv\").drop(exclude, axis=1)\n",
    "test_y = pd.read_csv(\"./data/sample_submission.csv\")"
   ]
  },
  {
   "cell_type": "code",
   "execution_count": 224,
   "id": "b8973bd8-6926-475a-b742-be8b9b799beb",
   "metadata": {},
   "outputs": [
    {
     "data": {
      "text/plain": [
       "count      1460.000000\n",
       "mean     180921.195890\n",
       "std       79442.502883\n",
       "min       34900.000000\n",
       "25%      129975.000000\n",
       "50%      163000.000000\n",
       "75%      214000.000000\n",
       "max      755000.000000\n",
       "Name: SalePrice, dtype: float64"
      ]
     },
     "execution_count": 224,
     "metadata": {},
     "output_type": "execute_result"
    }
   ],
   "source": [
    "train.SalePrice.describe()"
   ]
  },
  {
   "cell_type": "code",
   "execution_count": 225,
   "id": "786a8b22-1272-4143-929a-8ead67d64cb9",
   "metadata": {},
   "outputs": [],
   "source": [
    "num_cols = train.describe().columns[1:-1]  # no Id no Prices\n",
    "\n",
    "train_X = train[num_cols]\n",
    "train_Y = train.SalePrice\n",
    "\n",
    "test_X = test_x[num_cols]\n",
    "test_Y = test_y.SalePrice"
   ]
  },
  {
   "cell_type": "markdown",
   "id": "e2720d4c-4f9a-4a2c-b39a-19ef6946d883",
   "metadata": {},
   "source": [
    "## Rundom Forest on nummerical values"
   ]
  },
  {
   "cell_type": "code",
   "execution_count": 226,
   "id": "aaa43da5-4136-4902-8be1-1e86a50f2a12",
   "metadata": {},
   "outputs": [
    {
     "data": {
      "text/plain": [
       "53492.46999950385"
      ]
     },
     "execution_count": 226,
     "metadata": {},
     "output_type": "execute_result"
    }
   ],
   "source": [
    "from sklearn.ensemble import RandomForestRegressor\n",
    "\n",
    "\n",
    "model_forest = RandomForestRegressor(random_state=0)\n",
    "model_forest.fit(train_X, train_Y)\n",
    "\n",
    "prediction = model_forest.predict(test_X)\n",
    "mean_absolute_error(prediction, test_Y)    \n",
    "\n",
    "# num_cat_all: 53583.589070726135\n",
    "# exclude_v1: 53492.46999950385"
   ]
  },
  {
   "cell_type": "markdown",
   "id": "02064910-49dc-4174-832d-e5125616b587",
   "metadata": {},
   "source": [
    "## Decission Tree Regressor on nummerical values"
   ]
  },
  {
   "cell_type": "code",
   "execution_count": 227,
   "id": "e9e8f21a-d5ea-4dd4-b89e-0b5f27335a3e",
   "metadata": {},
   "outputs": [
    {
     "data": {
      "text/plain": [
       "56194.89397880862"
      ]
     },
     "execution_count": 227,
     "metadata": {},
     "output_type": "execute_result"
    }
   ],
   "source": [
    "from sklearn.tree import DecisionTreeRegressor\n",
    "\n",
    "model_tree = DecisionTreeRegressor(random_state=0)\n",
    "model_tree.fit(train_X, train_Y)\n",
    "prediction = model_tree.predict(test_X)\n",
    "mean_absolute_error(prediction, test_Y)  \n",
    "\n",
    "# num_cat_all: 56117.919198147356\n",
    "# exclude_v1: 56194.89397880862\n"
   ]
  },
  {
   "cell_type": "code",
   "execution_count": null,
   "id": "c46ab0ad-a4a4-45ab-ac93-585cf38135de",
   "metadata": {},
   "outputs": [],
   "source": []
  },
  {
   "cell_type": "code",
   "execution_count": null,
   "id": "7b16d849-be13-43c6-842b-14de45c35a33",
   "metadata": {},
   "outputs": [],
   "source": []
  },
  {
   "cell_type": "code",
   "execution_count": null,
   "id": "b38a8085-6b35-450f-80ad-1d39fe80f0ec",
   "metadata": {},
   "outputs": [],
   "source": []
  }
 ],
 "metadata": {
  "kernelspec": {
   "display_name": "Python 3 (ipykernel)",
   "language": "python",
   "name": "python3"
  },
  "language_info": {
   "codemirror_mode": {
    "name": "ipython",
    "version": 3
   },
   "file_extension": ".py",
   "mimetype": "text/x-python",
   "name": "python",
   "nbconvert_exporter": "python",
   "pygments_lexer": "ipython3",
   "version": "3.11.6"
  }
 },
 "nbformat": 4,
 "nbformat_minor": 5
}
