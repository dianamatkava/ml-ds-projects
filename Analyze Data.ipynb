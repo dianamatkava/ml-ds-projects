{
 "cells": [
  {
   "cell_type": "code",
   "execution_count": 90,
   "id": "ca97f654-15ff-48c5-8595-20eedf031e94",
   "metadata": {},
   "outputs": [],
   "source": [
    "import pandas as pd\n",
    "\n",
    "test = pd.read_csv(\"./data/test.csv\")\n",
    "train = pd.read_csv(\"./data/train.csv\")\n",
    "\n",
    "trian_Y = train.label\n",
    "train_X = train.drop(\"label\", axis=1)"
   ]
  },
  {
   "cell_type": "markdown",
   "id": "03631751-ae44-4878-9f39-828ecb1d016f",
   "metadata": {},
   "source": [
    "# Generate Image from data"
   ]
  },
  {
   "cell_type": "code",
   "execution_count": 115,
   "id": "aabcde7a-92a9-4bcf-83bc-3dce6a230cf1",
   "metadata": {
    "scrolled": true
   },
   "outputs": [],
   "source": [
    "from PIL import Image\n",
    "import numpy as np\n",
    "import math\n",
    "\n",
    "width = int(math.sqrt(len(test.columns)))\n",
    "height = width\n",
    "\n",
    "def generate_image_from_data(index: int, dataset=test, flash: bool = False) -> Image:\n",
    "    data = dataset.iloc[index]\n",
    "    arr = np.array(data, dtype=np.uint8).reshape(width, height)\n",
    "    \n",
    "    image = Image.fromarray(arr, 'L')\n",
    "    image = image.resize((250, 250), Image.Resampling.LANCZOS)\n",
    "    return image\n"
   ]
  },
  {
   "cell_type": "code",
   "execution_count": null,
   "id": "adcb965f-a537-4dd9-8c83-07b4f9c17b2f",
   "metadata": {},
   "outputs": [],
   "source": [
    "generate_image_from_data(index=345, dataset=test, flash=False)"
   ]
  },
  {
   "cell_type": "code",
   "execution_count": null,
   "id": "163006c3-006c-4174-9fcd-75c4da75dc8f",
   "metadata": {},
   "outputs": [],
   "source": [
    "from sklearn.free import DecisionTreeRegressor\n",
    "\n",
    "trian_Y = train.label\n",
    "train_X = train.drop(\"label\", axis=1)\n",
    "\n",
    "\n",
    "\n",
    "\n",
    "\n",
    "model_tree = DecisionTreeRegressor(random_state=0)\n",
    "model_feet"
   ]
  },
  {
   "cell_type": "code",
   "execution_count": null,
   "id": "0f4dcd1d-8566-4ed6-9443-81d6ff4b29c3",
   "metadata": {},
   "outputs": [],
   "source": []
  },
  {
   "cell_type": "code",
   "execution_count": null,
   "id": "cf2dc758-2662-4acc-ba8a-3c755babe941",
   "metadata": {},
   "outputs": [],
   "source": []
  }
 ],
 "metadata": {
  "kernelspec": {
   "display_name": "Python 3 (ipykernel)",
   "language": "python",
   "name": "python3"
  },
  "language_info": {
   "codemirror_mode": {
    "name": "ipython",
    "version": 3
   },
   "file_extension": ".py",
   "mimetype": "text/x-python",
   "name": "python",
   "nbconvert_exporter": "python",
   "pygments_lexer": "ipython3",
   "version": "3.11.6"
  }
 },
 "nbformat": 4,
 "nbformat_minor": 5
}
