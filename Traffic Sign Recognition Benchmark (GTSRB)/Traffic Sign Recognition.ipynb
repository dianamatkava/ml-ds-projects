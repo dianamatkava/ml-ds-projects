{
 "cells": [
  {
   "cell_type": "code",
   "execution_count": 39,
   "id": "4afaaebb-452c-4174-8ec1-5d4d646a949a",
   "metadata": {
    "ExecuteTime": {
     "end_time": "2024-11-02T16:54:37.521438Z",
     "start_time": "2024-11-02T16:54:37.519273Z"
    }
   },
   "outputs": [],
   "source": [
    "import random\n",
    "from gtsrb_list import traffic_sign_classes\n",
    "import cv2\n",
    "import numpy as np\n",
    "import os\n",
    "import sys\n",
    "import tensorflow as tf\n",
    "from PIL import Image\n",
    "\n",
    "from sklearn.model_selection import train_test_split\n",
    "\n",
    "EPOCHS = 15\n",
    "IMG_WIDTH = 30\n",
    "IMG_HEIGHT = 30\n",
    "NUM_CATEGORIES = 43\n",
    "TEST_SIZE = 0.4\n",
    "\n",
    "data_dir = './gtsrb'\n",
    "\n"
   ]
  },
  {
   "cell_type": "code",
   "execution_count": 40,
   "id": "edade17c-3aee-47bd-a203-6a4811ebff74",
   "metadata": {
    "ExecuteTime": {
     "end_time": "2024-11-02T16:54:37.691159Z",
     "start_time": "2024-11-02T16:54:37.688899Z"
    }
   },
   "outputs": [],
   "source": [
    "def load_data(data_dir):\n",
    "    images = []\n",
    "    labels = []\n",
    "\n",
    "    for type_ in os.listdir(data_dir):\n",
    "        for image_name in os.listdir(os.path.join(data_dir, type_)):\n",
    "            image_path = os.path.join(data_dir, type_, image_name)\n",
    "            image_nda = cv2.imread(image_path)\n",
    "            image_resized = cv2.resize(image_nda, (IMG_WIDTH, IMG_HEIGHT))\n",
    "            images.append(image_resized)\n",
    "            labels.append(int(type_))\n",
    "    return images, labels"
   ]
  },
  {
   "cell_type": "code",
   "execution_count": 41,
   "id": "317afd20-94ec-4284-977a-02afb246274c",
   "metadata": {
    "ExecuteTime": {
     "end_time": "2024-11-02T16:54:37.864720Z",
     "start_time": "2024-11-02T16:54:37.860865Z"
    }
   },
   "outputs": [],
   "source": [
    "def get_model():\n",
    "    \"\"\"\n",
    "    Returns a compiled convolutional neural network model. Assume that the\n",
    "    `input_shape` of the first layer is `(IMG_WIDTH, IMG_HEIGHT, 3)`.\n",
    "    The output layer should have `NUM_CATEGORIES` units, one for each category.\n",
    "    \"\"\"\n",
    "    model = tf.keras.models.Sequential([\n",
    "        tf.keras.layers.Conv2D(32, (3, 3), activation=\"relu\", input_shape=(30, 30, 3)),\n",
    "        tf.keras.layers.MaxPooling2D(pool_size=(2, 2)),\n",
    "        tf.keras.layers.Conv2D(64, (3, 3), activation=\"relu\"),\n",
    "        tf.keras.layers.MaxPooling2D(pool_size=(2, 2)),\n",
    "        tf.keras.layers.Flatten(),\n",
    "        tf.keras.layers.Dense(128, activation=\"relu\"),\n",
    "        tf.keras.layers.Dropout(0.5),\n",
    "        tf.keras.layers.Dense(43, activation=\"softmax\")\n",
    "    ])\n",
    "\n",
    "    # Train neural network\n",
    "    model.compile(\n",
    "        optimizer=\"adam\",\n",
    "        loss=\"categorical_crossentropy\",\n",
    "        metrics=[\"accuracy\"]\n",
    "    )\n",
    "\n",
    "    return model"
   ]
  },
  {
   "cell_type": "code",
   "execution_count": 42,
   "id": "a1d7d422-7c1d-4a4c-a732-5b47f565d61b",
   "metadata": {
    "ExecuteTime": {
     "end_time": "2024-11-02T16:54:38.043177Z",
     "start_time": "2024-11-02T16:54:38.036539Z"
    }
   },
   "outputs": [],
   "source": [
    "def get_random_image(dataset):\n",
    "    random_num = random.randint(0, len(dataset) - 1)\n",
    "    data = dataset[random_num]\n",
    "    arr = np.array(data, dtype=np.uint8).reshape(30, 30, 3)\n",
    "\n",
    "    image = Image.fromarray(arr, 'RGB')\n",
    "    image = image.resize((225, 225), Image.Resampling.LANCZOS)\n",
    "    return image"
   ]
  },
  {
   "cell_type": "code",
   "execution_count": 43,
   "id": "bbea7127-433f-4deb-8084-f06057db97ef",
   "metadata": {
    "ExecuteTime": {
     "end_time": "2024-11-02T16:56:07.062699Z",
     "start_time": "2024-11-02T16:54:38.338806Z"
    }
   },
   "outputs": [
    {
     "name": "stdout",
     "output_type": "stream",
     "text": [
      "Epoch 1/20\n",
      "\u001B[1m500/500\u001B[0m \u001B[32m━━━━━━━━━━━━━━━━━━━━\u001B[0m\u001B[37m\u001B[0m \u001B[1m5s\u001B[0m 8ms/step - accuracy: 0.0737 - loss: 5.8498\n",
      "Epoch 2/20\n",
      "\u001B[1m500/500\u001B[0m \u001B[32m━━━━━━━━━━━━━━━━━━━━\u001B[0m\u001B[37m\u001B[0m \u001B[1m4s\u001B[0m 8ms/step - accuracy: 0.0861 - loss: 3.4740\n",
      "Epoch 3/20\n",
      "\u001B[1m500/500\u001B[0m \u001B[32m━━━━━━━━━━━━━━━━━━━━\u001B[0m\u001B[37m\u001B[0m \u001B[1m4s\u001B[0m 8ms/step - accuracy: 0.1085 - loss: 3.3427\n",
      "Epoch 4/20\n",
      "\u001B[1m500/500\u001B[0m \u001B[32m━━━━━━━━━━━━━━━━━━━━\u001B[0m\u001B[37m\u001B[0m \u001B[1m5s\u001B[0m 9ms/step - accuracy: 0.1605 - loss: 3.0270\n",
      "Epoch 5/20\n",
      "\u001B[1m500/500\u001B[0m \u001B[32m━━━━━━━━━━━━━━━━━━━━\u001B[0m\u001B[37m\u001B[0m \u001B[1m4s\u001B[0m 9ms/step - accuracy: 0.3597 - loss: 2.1436\n",
      "Epoch 6/20\n",
      "\u001B[1m500/500\u001B[0m \u001B[32m━━━━━━━━━━━━━━━━━━━━\u001B[0m\u001B[37m\u001B[0m \u001B[1m4s\u001B[0m 8ms/step - accuracy: 0.5608 - loss: 1.3984\n",
      "Epoch 7/20\n",
      "\u001B[1m500/500\u001B[0m \u001B[32m━━━━━━━━━━━━━━━━━━━━\u001B[0m\u001B[37m\u001B[0m \u001B[1m4s\u001B[0m 8ms/step - accuracy: 0.6977 - loss: 0.9649\n",
      "Epoch 8/20\n",
      "\u001B[1m500/500\u001B[0m \u001B[32m━━━━━━━━━━━━━━━━━━━━\u001B[0m\u001B[37m\u001B[0m \u001B[1m4s\u001B[0m 8ms/step - accuracy: 0.7711 - loss: 0.7357\n",
      "Epoch 9/20\n",
      "\u001B[1m500/500\u001B[0m \u001B[32m━━━━━━━━━━━━━━━━━━━━\u001B[0m\u001B[37m\u001B[0m \u001B[1m4s\u001B[0m 8ms/step - accuracy: 0.8292 - loss: 0.5344\n",
      "Epoch 10/20\n",
      "\u001B[1m500/500\u001B[0m \u001B[32m━━━━━━━━━━━━━━━━━━━━\u001B[0m\u001B[37m\u001B[0m \u001B[1m4s\u001B[0m 8ms/step - accuracy: 0.8693 - loss: 0.4037\n",
      "Epoch 11/20\n",
      "\u001B[1m500/500\u001B[0m \u001B[32m━━━━━━━━━━━━━━━━━━━━\u001B[0m\u001B[37m\u001B[0m \u001B[1m4s\u001B[0m 8ms/step - accuracy: 0.8816 - loss: 0.3868\n",
      "Epoch 12/20\n",
      "\u001B[1m500/500\u001B[0m \u001B[32m━━━━━━━━━━━━━━━━━━━━\u001B[0m\u001B[37m\u001B[0m \u001B[1m4s\u001B[0m 8ms/step - accuracy: 0.8957 - loss: 0.3415\n",
      "Epoch 13/20\n",
      "\u001B[1m500/500\u001B[0m \u001B[32m━━━━━━━━━━━━━━━━━━━━\u001B[0m\u001B[37m\u001B[0m \u001B[1m4s\u001B[0m 8ms/step - accuracy: 0.9118 - loss: 0.2755\n",
      "Epoch 14/20\n",
      "\u001B[1m500/500\u001B[0m \u001B[32m━━━━━━━━━━━━━━━━━━━━\u001B[0m\u001B[37m\u001B[0m \u001B[1m4s\u001B[0m 9ms/step - accuracy: 0.9260 - loss: 0.2410\n",
      "Epoch 15/20\n",
      "\u001B[1m500/500\u001B[0m \u001B[32m━━━━━━━━━━━━━━━━━━━━\u001B[0m\u001B[37m\u001B[0m \u001B[1m4s\u001B[0m 8ms/step - accuracy: 0.9157 - loss: 0.2941\n",
      "Epoch 16/20\n",
      "\u001B[1m500/500\u001B[0m \u001B[32m━━━━━━━━━━━━━━━━━━━━\u001B[0m\u001B[37m\u001B[0m \u001B[1m4s\u001B[0m 9ms/step - accuracy: 0.9311 - loss: 0.2466\n",
      "Epoch 17/20\n",
      "\u001B[1m500/500\u001B[0m \u001B[32m━━━━━━━━━━━━━━━━━━━━\u001B[0m\u001B[37m\u001B[0m \u001B[1m4s\u001B[0m 8ms/step - accuracy: 0.9320 - loss: 0.2298\n",
      "Epoch 18/20\n",
      "\u001B[1m500/500\u001B[0m \u001B[32m━━━━━━━━━━━━━━━━━━━━\u001B[0m\u001B[37m\u001B[0m \u001B[1m4s\u001B[0m 9ms/step - accuracy: 0.9408 - loss: 0.2127\n",
      "Epoch 19/20\n",
      "\u001B[1m500/500\u001B[0m \u001B[32m━━━━━━━━━━━━━━━━━━━━\u001B[0m\u001B[37m\u001B[0m \u001B[1m4s\u001B[0m 9ms/step - accuracy: 0.9462 - loss: 0.1896\n",
      "Epoch 20/20\n",
      "\u001B[1m500/500\u001B[0m \u001B[32m━━━━━━━━━━━━━━━━━━━━\u001B[0m\u001B[37m\u001B[0m \u001B[1m4s\u001B[0m 8ms/step - accuracy: 0.9438 - loss: 0.1885\n",
      "333/333 - 1s - 2ms/step - accuracy: 0.9794 - loss: 0.1031\n"
     ]
    }
   ],
   "source": [
    "images, labels = load_data(data_dir)\n",
    "\n",
    "def main(images, labels):\n",
    "\n",
    "    if len(sys.argv) not in [2, 3]:\n",
    "        sys.exit(\"Usage: python traffic.py data_directory [model.h5]\")\n",
    "\n",
    "    labels = tf.keras.utils.to_categorical(labels)\n",
    "    x_train, x_test, y_train, y_test = train_test_split(\n",
    "        np.array(images), np.array(labels), test_size=TEST_SIZE\n",
    "    )\n",
    "\n",
    "    model = get_model()\n",
    "    model.fit(x_train, y_train, epochs=EPOCHS)\n",
    "\n",
    "    model.evaluate(x_test,  y_test, verbose=2)\n",
    "    return model\n",
    "\n",
    "model = main(images, labels)\n"
   ]
  },
  {
   "cell_type": "code",
   "execution_count": 49,
   "id": "736f100c-519a-41a5-a397-9744fc511362",
   "metadata": {
    "ExecuteTime": {
     "end_time": "2024-11-02T16:59:27.295312Z",
     "start_time": "2024-11-02T16:59:27.227532Z"
    }
   },
   "outputs": [
    {
     "data": {
      "text/plain": "<PIL.Image.Image image mode=RGB size=150x150>",
      "image/png": "[encoded data removed]",
      "image/jpeg": "[encoded data removed]"
     },
     "metadata": {},
     "output_type": "display_data"
    },
    {
     "name": "stdout",
     "output_type": "stream",
     "text": [
      "Input image shape: (1, 30, 30, 3)\n",
      "\u001B[1m1/1\u001B[0m \u001B[32m━━━━━━━━━━━━━━━━━━━━\u001B[0m\u001B[37m\u001B[0m \u001B[1m0s\u001B[0m 20ms/step\n",
      "Raw predictions: [[1.60679345e-08 1.11665067e-04 9.46063738e-05 7.57371113e-02\n",
      "  1.95241068e-04 1.07095884e-02 1.01709674e-07 2.04020168e-07\n",
      "  7.35434354e-04 7.81143390e-05 7.36533457e-06 5.84253655e-07\n",
      "  2.27825076e-05 1.14654598e-03 1.45245190e-06 2.28959436e-07\n",
      "  5.01256210e-08 1.10333292e-06 3.76276876e-05 4.65093876e-07\n",
      "  9.10263300e-01 2.05290163e-09 9.58174132e-06 7.01728186e-06\n",
      "  4.08832390e-09 6.60468068e-04 2.14198280e-05 2.09278861e-09\n",
      "  1.00622606e-06 5.47788295e-05 5.81624079e-07 1.79056849e-06\n",
      "  1.34207369e-07 1.70785469e-07 9.92629312e-10 7.72141746e-08\n",
      "  1.02152808e-06 1.66989422e-10 7.55346045e-05 1.87791883e-12\n",
      "  4.43349570e-08 2.30138285e-05 1.52156412e-10]]\n",
      "Predicted class: 20 - Parking\n"
     ]
    }
   ],
   "source": [
    "# Get a random image and resize for display\n",
    "img = get_random_image(images)\n",
    "img_display = img.resize((150, 150), Image.LANCZOS)\n",
    "display(img_display)\n",
    "\n",
    "# Preprocess the image for the model\n",
    "img = img.resize((30, 30), Image.LANCZOS)\n",
    "img = np.array(img, dtype=np.uint8) / 255.0  # Normalize\n",
    "img = np.expand_dims(img, axis=0)  # Shape (1, 30, 30, 3)\n",
    "\n",
    "# Check the shape of the image input\n",
    "print(f\"Input image shape: {img.shape}\")\n",
    "\n",
    "# Make a prediction\n",
    "res = model.predict(img)\n",
    "print(f\"Raw predictions: {res}\")\n",
    "\n",
    "# Get the predicted class\n",
    "predicted_class = np.argmax(res)\n",
    "print(f\"Predicted class: {predicted_class} - {traffic_sign_classes[predicted_class]}\")\n"
   ]
  },
  {
   "cell_type": "code",
   "execution_count": 15,
   "id": "c9758f65-2afc-4fb1-b748-72958a78bc2e",
   "metadata": {
    "ExecuteTime": {
     "end_time": "2024-11-02T16:50:55.433108Z",
     "start_time": "2024-11-02T16:50:55.427568Z"
    }
   },
   "outputs": [],
   "source": []
  },
  {
   "cell_type": "code",
   "outputs": [],
   "source": [],
   "metadata": {
    "collapsed": false
   },
   "id": "8b53c7f05b0a4ae2"
  }
 ],
 "metadata": {
  "kernelspec": {
   "display_name": "Python 3 (ipykernel)",
   "language": "python",
   "name": "python3"
  },
  "language_info": {
   "codemirror_mode": {
    "name": "ipython",
    "version": 3
   },
   "file_extension": ".py",
   "mimetype": "text/x-python",
   "name": "python",
   "nbconvert_exporter": "python",
   "pygments_lexer": "ipython3",
   "version": "3.11.6"
  }
 },
 "nbformat": 4,
 "nbformat_minor": 5
}
