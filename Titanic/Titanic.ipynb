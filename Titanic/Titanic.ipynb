{
 "cells": [
  {
   "cell_type": "code",
   "execution_count": 39,
   "id": "241bb2f4-8033-4989-bbf8-ee6a83ba3061",
   "metadata": {},
   "outputs": [
    {
     "name": "stdout",
     "output_type": "stream",
     "text": [
      "submission.head()=   PassengerId  Survived\n",
      "0          892         0\n",
      "1          893         1\n",
      "2          894         0\n",
      "3          895         0\n",
      "4          896         1\n",
      "test.head(15)=    PassengerId  Pclass                                               Name  \\\n",
      "0           892       3                                   Kelly, Mr. James   \n",
      "1           893       3                   Wilkes, Mrs. James (Ellen Needs)   \n",
      "2           894       2                          Myles, Mr. Thomas Francis   \n",
      "3           895       3                                   Wirz, Mr. Albert   \n",
      "4           896       3       Hirvonen, Mrs. Alexander (Helga E Lindqvist)   \n",
      "5           897       3                         Svensson, Mr. Johan Cervin   \n",
      "6           898       3                               Connolly, Miss. Kate   \n",
      "7           899       2                       Caldwell, Mr. Albert Francis   \n",
      "8           900       3          Abrahim, Mrs. Joseph (Sophie Halaut Easu)   \n",
      "9           901       3                            Davies, Mr. John Samuel   \n",
      "10          902       3                                   Ilieff, Mr. Ylio   \n",
      "11          903       1                         Jones, Mr. Charles Cresson   \n",
      "12          904       1      Snyder, Mrs. John Pillsbury (Nelle Stevenson)   \n",
      "13          905       2                               Howard, Mr. Benjamin   \n",
      "14          906       1  Chaffee, Mrs. Herbert Fuller (Carrie Constance...   \n",
      "\n",
      "       Sex   Age  SibSp  Parch       Ticket     Fare Cabin Embarked  \n",
      "0     male  34.5      0      0       330911   7.8292   NaN        Q  \n",
      "1   female  47.0      1      0       363272   7.0000   NaN        S  \n",
      "2     male  62.0      0      0       240276   9.6875   NaN        Q  \n",
      "3     male  27.0      0      0       315154   8.6625   NaN        S  \n",
      "4   female  22.0      1      1      3101298  12.2875   NaN        S  \n",
      "5     male  14.0      0      0         7538   9.2250   NaN        S  \n",
      "6   female  30.0      0      0       330972   7.6292   NaN        Q  \n",
      "7     male  26.0      1      1       248738  29.0000   NaN        S  \n",
      "8   female  18.0      0      0         2657   7.2292   NaN        C  \n",
      "9     male  21.0      2      0    A/4 48871  24.1500   NaN        S  \n",
      "10    male   NaN      0      0       349220   7.8958   NaN        S  \n",
      "11    male  46.0      0      0          694  26.0000   NaN        S  \n",
      "12  female  23.0      1      0        21228  82.2667   B45        S  \n",
      "13    male  63.0      1      0        24065  26.0000   NaN        S  \n",
      "14  female  47.0      1      0  W.E.P. 5734  61.1750   E31        S  \n",
      "\n",
      "Columns\n",
      "Index(['PassengerId', 'Survived', 'Pclass', 'Name', 'Sex', 'Age', 'SibSp',\n",
      "       'Parch', 'Ticket', 'Fare', 'Cabin', 'Embarked'],\n",
      "      dtype='object')\n",
      "\n",
      "Get non empty col count\n",
      "train.count()=PassengerId    891\n",
      "Survived       891\n",
      "Pclass         891\n",
      "Name           891\n",
      "Sex            891\n",
      "Age            714\n",
      "SibSp          891\n",
      "Parch          891\n",
      "Ticket         891\n",
      "Fare           891\n",
      "Cabin          204\n",
      "Embarked       889\n",
      "dtype: int64\n"
     ]
    }
   ],
   "source": [
    "import pandas as pd\n",
    "\n",
    "# TODO: use S3 to to fetch data from.\n",
    "submission = pd.read_csv('./data/gender_submission.csv')\n",
    "test = pd.read_csv('./data/test.csv')\n",
    "train = pd.read_csv('./data/train.csv')\n",
    "\n",
    "print(f'{submission.head()=}')\n",
    "print(f'{test.head(15)=}')\n",
    "\n",
    "print(\"\\nColumns\")\n",
    "print(train.columns)\n",
    "\n",
    "print(\"\\nGet non empty col count\")\n",
    "print(f'{train.count()=}')\n",
    "# print(f'{test.count()=}')"
   ]
  },
  {
   "cell_type": "markdown",
   "id": "1d5a347a-5778-46f8-99fa-887962321f8b",
   "metadata": {},
   "source": [
    "Will not include `PassengerI`, `Name`, `Ticket`. \n",
    "Statistically does not makes sence to me. \n",
    "\n",
    "The `Cabin` mostly unknown, but very important. \n",
    "`Embarked` does not make sence to me atm.\n",
    "\n",
    "`Survived` will be the Y value.\n",
    "\n",
    "Lets now convert `Sex` to nummerical value and see train summary."
   ]
  },
  {
   "cell_type": "code",
   "execution_count": 40,
   "id": "c8db558d-db41-45de-aef9-1ab56827da7a",
   "metadata": {},
   "outputs": [
    {
     "name": "stdout",
     "output_type": "stream",
     "text": [
      "\n",
      " Train Summary\n",
      "       PassengerId    Survived      Pclass         Sex         Age  \\\n",
      "count   891.000000  891.000000  891.000000  891.000000  714.000000   \n",
      "mean    446.000000    0.383838    2.308642   -0.295174   29.699118   \n",
      "std     257.353842    0.486592    0.836071    0.955980   14.526497   \n",
      "min       1.000000    0.000000    1.000000   -1.000000    0.420000   \n",
      "25%     223.500000    0.000000    2.000000   -1.000000   20.125000   \n",
      "50%     446.000000    0.000000    3.000000   -1.000000   28.000000   \n",
      "75%     668.500000    1.000000    3.000000    1.000000   38.000000   \n",
      "max     891.000000    1.000000    3.000000    1.000000   80.000000   \n",
      "\n",
      "            SibSp       Parch        Fare  \n",
      "count  891.000000  891.000000  891.000000  \n",
      "mean     0.523008    0.381594   32.204208  \n",
      "std      1.102743    0.806057   49.693429  \n",
      "min      0.000000    0.000000    0.000000  \n",
      "25%      0.000000    0.000000    7.910400  \n",
      "50%      0.000000    0.000000   14.454200  \n",
      "75%      1.000000    0.000000   31.000000  \n",
      "max      8.000000    6.000000  512.329200  \n"
     ]
    },
    {
     "name": "stderr",
     "output_type": "stream",
     "text": [
      "/var/folders/bh/54y95t956h793hywb9szy8gh0000gn/T/ipykernel_79688/2641575326.py:2: FutureWarning: Downcasting behavior in `replace` is deprecated and will be removed in a future version. To retain the old behavior, explicitly call `result.infer_objects(copy=False)`. To opt-in to the future behavior, set `pd.set_option('future.no_silent_downcasting', True)`\n",
      "  test.Sex = test.Sex.replace(replace_gender)\n",
      "/var/folders/bh/54y95t956h793hywb9szy8gh0000gn/T/ipykernel_79688/2641575326.py:3: FutureWarning: Downcasting behavior in `replace` is deprecated and will be removed in a future version. To retain the old behavior, explicitly call `result.infer_objects(copy=False)`. To opt-in to the future behavior, set `pd.set_option('future.no_silent_downcasting', True)`\n",
      "  train.Sex = train.Sex.replace(replace_gender)\n"
     ]
    }
   ],
   "source": [
    "replace_gender = {'female': 1, \"male\": -1}  # all data given\n",
    "test.Sex = test.Sex.replace(replace_gender)\n",
    "train.Sex = train.Sex.replace(replace_gender)\n",
    "\n",
    "\n",
    "print(\"\\n Train Summary\")\n",
    "print(f\"{train.describe()}\")"
   ]
  },
  {
   "cell_type": "code",
   "execution_count": null,
   "id": "8c185c69-6fff-423d-90a2-9216c1fac02e",
   "metadata": {},
   "outputs": [],
   "source": [
    "feature = "
   ]
  }
 ],
 "metadata": {
  "kernelspec": {
   "display_name": "Python 3 (ipykernel)",
   "language": "python",
   "name": "python3"
  },
  "language_info": {
   "codemirror_mode": {
    "name": "ipython",
    "version": 3
   },
   "file_extension": ".py",
   "mimetype": "text/x-python",
   "name": "python",
   "nbconvert_exporter": "python",
   "pygments_lexer": "ipython3",
   "version": "3.11.6"
  }
 },
 "nbformat": 4,
 "nbformat_minor": 5
}
